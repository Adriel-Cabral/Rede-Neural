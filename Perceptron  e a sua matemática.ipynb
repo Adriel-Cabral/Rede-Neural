{
 "cells": [
  {
   "cell_type": "code",
   "execution_count": 11,
   "metadata": {},
   "outputs": [],
   "source": [
    "#Importando a biblioteca numpy\n",
    "\n",
    "import numpy as np"
   ]
  },
  {
   "cell_type": "code",
   "execution_count": 12,
   "metadata": {},
   "outputs": [],
   "source": [
    "#Criando a nossa base de dados\n",
    "\n",
    "base = np.array([[0, 0, 0], [0, 1, 0], [1, 0, 0], [1, 1, 1]])"
   ]
  },
  {
   "cell_type": "code",
   "execution_count": 7,
   "metadata": {},
   "outputs": [
    {
     "name": "stdout",
     "output_type": "stream",
     "text": [
      "[[0 0 0]\n",
      " [0 1 0]\n",
      " [1 0 0]\n",
      " [1 1 1]]\n"
     ]
    }
   ],
   "source": [
    "print(base)"
   ]
  },
  {
   "cell_type": "code",
   "execution_count": 10,
   "metadata": {},
   "outputs": [],
   "source": [
    "#Inicializando os pesos de forma aleatória.\n",
    "\n",
    "pesos_camada1 = 2*np.random.random((2, 1))-1\n",
    "peso_bias = 2*np.random.random((1, 1)) -1"
   ]
  },
  {
   "cell_type": "code",
   "execution_count": 8,
   "metadata": {},
   "outputs": [
    {
     "name": "stdout",
     "output_type": "stream",
     "text": [
      "[[-0.24410843]\n",
      " [-0.99023257]]\n"
     ]
    }
   ],
   "source": [
    "print(pesos_camada1)"
   ]
  },
  {
   "cell_type": "code",
   "execution_count": 9,
   "metadata": {},
   "outputs": [
    {
     "name": "stdout",
     "output_type": "stream",
     "text": [
      "[[0.95250785]]\n"
     ]
    }
   ],
   "source": [
    "print(peso_bias)"
   ]
  },
  {
   "cell_type": "code",
   "execution_count": 6,
   "metadata": {},
   "outputs": [],
   "source": [
    "#Função sigmoide e sua derivada\n",
    "\n",
    "def funSigm(x, dev=False):\n",
    "    if dev == False:\n",
    "        return 1 / (1 + np.exp(-x))\n",
    "    return x * (1 - x)\n",
    "\n",
    "#Número de vezes que treinaremos a rede.\n",
    "\n",
    "epocas = 10000"
   ]
  },
  {
   "cell_type": "code",
   "execution_count": 13,
   "metadata": {},
   "outputs": [
    {
     "name": "stdout",
     "output_type": "stream",
     "text": [
      "Erro: [[0.17242106]]\n",
      "Erro: [[0.01103268]]\n",
      "Erro: [[0.00767135]]\n",
      "Erro: [[0.00619862]]\n",
      "Erro: [[0.0053592]]\n",
      "Erro: [[0.00475383]]\n",
      "Erro: [[0.0043368]]\n",
      "Erro: [[0.00401315]]\n",
      "Erro: [[0.00372956]]\n",
      "Erro: [[0.00350991]]\n"
     ]
    }
   ],
   "source": [
    "for epoca in range(epocas):\n",
    "    \n",
    "    #Variável para tirar a média dos erros\n",
    "    media = 0\n",
    "    \n",
    "    #Embaralhando os nossos dados\n",
    "    np.random.shuffle(base)\n",
    "    \n",
    "    #Dividindo entre entradas e saidas\n",
    "    entradas = base[:, :2]\n",
    "    saidas = base[:, 2]\n",
    "    \n",
    "    #For para percorrer nossa matriz de entradas\n",
    "    for pos, entrada in enumerate(entradas):\n",
    "        \n",
    "        #Calculos do \"impulso nervoso\"\n",
    "        Result_camada1 = funSigm(np.dot(entrada, pesos_camada1) + peso_bias)\n",
    "        \n",
    "        #O quão longe estamos de um bom resultado ?\n",
    "        erro = Result_camada1 - saidas[pos]\n",
    "        \n",
    "        media += erro\n",
    "        \n",
    "        #Calculo do Delta\n",
    "        Delta = 2 * erro *  funSigm(Result_camada1, dev=True)\n",
    "        \n",
    "        #Backpropagation \n",
    "        pesos_camada1 -= Delta * entrada.reshape(2, 1) * 0.5\n",
    "        peso_bias -= Delta * 0.5\n",
    "        \n",
    "    if epoca % 1000 == 0:\n",
    "        print(\"Erro: {}\".format(media/4))"
   ]
  },
  {
   "cell_type": "code",
   "execution_count": null,
   "metadata": {},
   "outputs": [],
   "source": [
    "for epoca in range(epocas):\n",
    "    \n",
    "    #Variável para tirar a média dos erros\n",
    "    media = 0\n",
    "    \n",
    "    #Embaralhando os nossos dados\n",
    "    np.random.shuffle(base)\n",
    "    \n",
    "    #Dividindo entre entradas e saidas\n",
    "    entradas = base[:, :2]\n",
    "    saidas = base[:, 2]"
   ]
  },
  {
   "cell_type": "code",
   "execution_count": null,
   "metadata": {},
   "outputs": [],
   "source": [
    "#For para percorrer nossa matriz de entradas\n",
    "    for pos, entrada in enumerate(entradas):\n",
    "        \n",
    "        #Calculos do \"impulso nervoso\"\n",
    "        Result_camada1 = funSigm(np.dot(entrada, pesos_camada1) + peso_bias)\n",
    "        \n",
    "        #O quão longe estamos de um bom resultado ?\n",
    "        erro = Result_camada1 - saidas[pos]\n",
    "        \n",
    "        media += erro\n",
    "        \n",
    "        #Calculo do Delta\n",
    "        Delta = 2 * erro *  funSigm(Result_camada1, dev=True)\n",
    "        \n",
    "        #Backpropagation \n",
    "        pesos_camada1 -= Delta * entrada.reshape(2, 1) * 0.5\n",
    "        peso_bias -= Delta * 0.5\n",
    "        \n",
    "    if epoca % 1000 == 0:\n",
    "        print(\"Erro: {}\".format(media/4))"
   ]
  }
 ],
 "metadata": {
  "kernelspec": {
   "display_name": "Python 3",
   "language": "python",
   "name": "python3"
  },
  "language_info": {
   "codemirror_mode": {
    "name": "ipython",
    "version": 3
   },
   "file_extension": ".py",
   "mimetype": "text/x-python",
   "name": "python",
   "nbconvert_exporter": "python",
   "pygments_lexer": "ipython3",
   "version": "3.8.3"
  }
 },
 "nbformat": 4,
 "nbformat_minor": 4
}
